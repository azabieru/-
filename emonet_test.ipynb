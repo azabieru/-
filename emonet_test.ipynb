{
  "nbformat": 4,
  "nbformat_minor": 0,
  "metadata": {
    "colab": {
      "name": "emonet_test.ipynb",
      "provenance": [],
      "collapsed_sections": [],
      "authorship_tag": "ABX9TyO+S9vqj7lnUzPAyPAyUOyP",
      "include_colab_link": true
    },
    "kernelspec": {
      "name": "python3",
      "display_name": "Python 3"
    },
    "language_info": {
      "name": "python"
    }
  },
  "cells": [
    {
      "cell_type": "markdown",
      "metadata": {
        "id": "view-in-github",
        "colab_type": "text"
      },
      "source": [
        "<a href=\"https://colab.research.google.com/github/azabieru/-/blob/master/emonet_test.ipynb\" target=\"_parent\"><img src=\"https://colab.research.google.com/assets/colab-badge.svg\" alt=\"Open In Colab\"/></a>"
      ]
    },
    {
      "cell_type": "markdown",
      "metadata": {
        "id": "BKjuM4k0FZip"
      },
      "source": [
        "gitからクローン"
      ]
    },
    {
      "cell_type": "code",
      "metadata": {
        "colab": {
          "base_uri": "https://localhost:8080/"
        },
        "id": "oig2qWDVFgid",
        "outputId": "a0094d13-5f33-4783-ed92-d69ea3c2e2e2"
      },
      "source": [
        "!git clone https://github.com/face-analysis/emonet.git"
      ],
      "execution_count": 2,
      "outputs": [
        {
          "output_type": "stream",
          "text": [
            "Cloning into 'emonet'...\n",
            "remote: Enumerating objects: 100, done.\u001b[K\n",
            "remote: Counting objects: 100% (3/3), done.\u001b[K\n",
            "remote: Compressing objects: 100% (3/3), done.\u001b[K\n",
            "remote: Total 100 (delta 0), reused 0 (delta 0), pack-reused 97\u001b[K\n",
            "Receiving objects: 100% (100/100), 100.00 MiB | 31.26 MiB/s, done.\n",
            "Resolving deltas: 100% (36/36), done.\n"
          ],
          "name": "stdout"
        }
      ]
    },
    {
      "cell_type": "markdown",
      "metadata": {
        "id": "PEl43Ai8JlGu"
      },
      "source": [
        "ファイル階層に移動"
      ]
    },
    {
      "cell_type": "code",
      "metadata": {
        "colab": {
          "base_uri": "https://localhost:8080/"
        },
        "id": "m5dyGkCDFy_s",
        "outputId": "29cbe2e5-d3c9-4392-ade6-a86eea440458"
      },
      "source": [
        "import os\n",
        "path = '/content/emonet'\n",
        "\n",
        "#作業ディレクトリをpathに移動する\n",
        "os.chdir(path)\n",
        "\n",
        "#作業ディレクトリ直下のファイルを確認\n",
        "!ls"
      ],
      "execution_count": 4,
      "outputs": [
        {
          "output_type": "stream",
          "text": [
            "emonet\timages\tLICENSE.txt  pickles  pretrained  README.md  test.py\n"
          ],
          "name": "stdout"
        }
      ]
    },
    {
      "cell_type": "markdown",
      "metadata": {
        "id": "j0cG8kcFJ9w6"
      },
      "source": [
        "testファイルの実行"
      ]
    },
    {
      "cell_type": "code",
      "metadata": {
        "id": "2Gam2g1gJwos"
      },
      "source": [
        ""
      ],
      "execution_count": null,
      "outputs": []
    }
  ]
}